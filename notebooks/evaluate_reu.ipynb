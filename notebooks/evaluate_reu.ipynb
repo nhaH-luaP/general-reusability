{
 "cells": [
  {
   "cell_type": "code",
   "execution_count": 1,
   "metadata": {},
   "outputs": [],
   "source": [
    "import json\n",
    "import yaml\n",
    "\n",
    "import numpy as np\n",
    "import pylab as plt\n",
    "\n",
    "from pathlib import Path\n",
    "import os"
   ]
  },
  {
   "cell_type": "code",
   "execution_count": 4,
   "metadata": {},
   "outputs": [
    {
     "name": "stdout",
     "output_type": "stream",
     "text": [
      "/home/phahn/repositories/SDAL/notebooks/data/eval_reu/resnet6/random/ssl_False/pre_False/eval_resnet6/eval_ssl_False/eval_pre_False/seed_1\n",
      "/home/phahn/repositories/SDAL/notebooks/data/eval_reu/resnet6/random/ssl_False/pre_False/eval_resnet6/eval_ssl_False/eval_pre_True/seed_1\n",
      "/home/phahn/repositories/SDAL/notebooks/data/eval_reu/resnet6/random/ssl_False/pre_False/eval_resnet6/eval_ssl_True/eval_pre_False/seed_1\n",
      "/home/phahn/repositories/SDAL/notebooks/data/eval_reu/resnet6/random/ssl_False/pre_True/eval_resnet18/eval_ssl_False/eval_pre_False/seed_1\n",
      "/home/phahn/repositories/SDAL/notebooks/data/eval_reu/resnet6/random/ssl_False/pre_True/eval_resnet18/eval_ssl_False/eval_pre_True/seed_1\n",
      "/home/phahn/repositories/SDAL/notebooks/data/eval_reu/resnet6/random/ssl_False/pre_True/eval_resnet18/eval_ssl_True/eval_pre_False/seed_1\n",
      "/home/phahn/repositories/SDAL/notebooks/data/eval_reu/resnet6/random/ssl_True/pre_False/eval_resnet10/eval_ssl_False/eval_pre_False/seed_1\n",
      "/home/phahn/repositories/SDAL/notebooks/data/eval_reu/resnet6/random/ssl_True/pre_False/eval_resnet10/eval_ssl_False/eval_pre_True/seed_1\n",
      "/home/phahn/repositories/SDAL/notebooks/data/eval_reu/resnet6/random/ssl_True/pre_False/eval_resnet10/eval_ssl_True/eval_pre_False/seed_1\n",
      "/home/phahn/repositories/SDAL/notebooks/data/eval_reu/resnet10/random/ssl_False/pre_False/eval_resnet6/eval_ssl_False/eval_pre_False/seed_1\n",
      "/home/phahn/repositories/SDAL/notebooks/data/eval_reu/resnet10/random/ssl_False/pre_False/eval_resnet6/eval_ssl_False/eval_pre_True/seed_1\n",
      "/home/phahn/repositories/SDAL/notebooks/data/eval_reu/resnet10/random/ssl_False/pre_False/eval_resnet6/eval_ssl_True/eval_pre_False/seed_1\n",
      "/home/phahn/repositories/SDAL/notebooks/data/eval_reu/resnet10/random/ssl_False/pre_True/eval_resnet18/eval_ssl_False/eval_pre_False/seed_1\n",
      "/home/phahn/repositories/SDAL/notebooks/data/eval_reu/resnet10/random/ssl_False/pre_True/eval_resnet18/eval_ssl_False/eval_pre_True/seed_1\n",
      "/home/phahn/repositories/SDAL/notebooks/data/eval_reu/resnet10/random/ssl_False/pre_True/eval_resnet18/eval_ssl_True/eval_pre_False/seed_1\n",
      "/home/phahn/repositories/SDAL/notebooks/data/eval_reu/resnet10/random/ssl_True/pre_False/eval_resnet10/eval_ssl_False/eval_pre_False/seed_1\n",
      "/home/phahn/repositories/SDAL/notebooks/data/eval_reu/resnet10/random/ssl_True/pre_False/eval_resnet10/eval_ssl_False/eval_pre_True/seed_1\n",
      "/home/phahn/repositories/SDAL/notebooks/data/eval_reu/resnet10/random/ssl_True/pre_False/eval_resnet10/eval_ssl_True/eval_pre_False/seed_1\n",
      "/home/phahn/repositories/SDAL/notebooks/data/eval_reu/resnet18/random/ssl_False/pre_False/eval_resnet6/eval_ssl_False/eval_pre_False/seed_1\n",
      "/home/phahn/repositories/SDAL/notebooks/data/eval_reu/resnet18/random/ssl_False/pre_False/eval_resnet6/eval_ssl_False/eval_pre_True/seed_1\n",
      "/home/phahn/repositories/SDAL/notebooks/data/eval_reu/resnet18/random/ssl_False/pre_False/eval_resnet6/eval_ssl_True/eval_pre_False/seed_1\n",
      "/home/phahn/repositories/SDAL/notebooks/data/eval_reu/resnet18/random/ssl_False/pre_True/eval_resnet18/eval_ssl_False/eval_pre_False/seed_1\n",
      "/home/phahn/repositories/SDAL/notebooks/data/eval_reu/resnet18/random/ssl_False/pre_True/eval_resnet18/eval_ssl_False/eval_pre_True/seed_1\n",
      "/home/phahn/repositories/SDAL/notebooks/data/eval_reu/resnet18/random/ssl_False/pre_True/eval_resnet18/eval_ssl_True/eval_pre_False/seed_1\n",
      "/home/phahn/repositories/SDAL/notebooks/data/eval_reu/resnet18/random/ssl_True/pre_False/eval_resnet10/eval_ssl_False/eval_pre_False/seed_1\n",
      "/home/phahn/repositories/SDAL/notebooks/data/eval_reu/resnet18/random/ssl_True/pre_False/eval_resnet10/eval_ssl_False/eval_pre_True/seed_1\n",
      "/home/phahn/repositories/SDAL/notebooks/data/eval_reu/resnet18/random/ssl_True/pre_False/eval_resnet10/eval_ssl_True/eval_pre_False/seed_1\n"
     ]
    }
   ],
   "source": [
    "model_names = ['resnet6', 'resnet10', 'resnet18']\n",
    "queries = ['random', 'coreset', 'margin', 'badge', 'typiclust']\n",
    "use_SSL = ['False', 'True']\n",
    "use_PRE = ['False', 'True']\n",
    "Q = {'random':'Random', 'coreset':'CoreSets', 'badge':'BADGE', 'margin':'Margin', 'typiclust':'TypiClust'}\n",
    "Q_colors = {'random':'black', 'coreset':'orange', 'badge':'blue', 'margin':'red', 'typiclust':'green'}\n",
    "M = {'miniresnet':'MiniResNet', 'resnet6':'ResNet-6', 'resnet10':'ResNet-10', 'resnet18':'ResNet-18'}\n",
    "\n",
    "results = {mn:{\n",
    "    q:{\n",
    "        us:{\n",
    "            up:{} for up in use_PRE\n",
    "        } for us in use_SSL\n",
    "    } for q in queries\n",
    "} for mn in model_names}\n",
    "root_path = Path('/home/phahn/repositories/SDAL/notebooks/data/eval_reu/')\n",
    "\n",
    "for mn in model_names:\n",
    "    for q in queries:\n",
    "        for us in use_SSL:\n",
    "            for up in use_PRE:\n",
    "                for emn in model_names:\n",
    "                    for eus in use_SSL:\n",
    "                        for eup in use_PRE:\n",
    "                            paths = sorted(list(root_path.glob(mn+\"/\"+q+\"/ssl_\"+us+\"/pre_\"+up+\"/eval_\"+emn+\"/eval_ssl_\"+eus+\"/eval_pre_\"+eup+\"/*\")))\n",
    "                            for path in paths:\n",
    "                                if os.path.exists(path / 'results.json'):\n",
    "                                    print(path)\n",
    "                                    with open(path / 'results.json', 'r') as f:\n",
    "                                        run_results = json.load(f)\n",
    "\n",
    "                                    # Test acc\n",
    "                                    test_acc = run_results['eval_stats']['acc1']\n",
    "\n",
    "                                    if path.stem[-1] in results[mn][q][us][up]:\n",
    "                                        results[mn][q][us][up][path.stem[-1]].append(test_acc)\n",
    "                                    else:\n",
    "                                        results[mn][q][us][up][path.stem[-1]] = [test_acc]"
   ]
  },
  {
   "cell_type": "code",
   "execution_count": 5,
   "metadata": {},
   "outputs": [
    {
     "data": {
      "text/plain": [
       "{'resnet6': {'random': {'False': {'False': {'1': [60.28600311279297,\n",
       "      64.86000061035156,\n",
       "      65.26200103759766]},\n",
       "    'True': {'1': [75.56600189208984, 84.51400756835938, 88.02400207519531]}},\n",
       "   'True': {'False': {'1': [72.58200073242188,\n",
       "      83.39800262451172,\n",
       "      86.22400665283203]},\n",
       "    'True': {}}},\n",
       "  'coreset': {'False': {'False': {}, 'True': {}},\n",
       "   'True': {'False': {}, 'True': {}}},\n",
       "  'margin': {'False': {'False': {}, 'True': {}},\n",
       "   'True': {'False': {}, 'True': {}}},\n",
       "  'badge': {'False': {'False': {}, 'True': {}},\n",
       "   'True': {'False': {}, 'True': {}}},\n",
       "  'typiclust': {'False': {'False': {}, 'True': {}},\n",
       "   'True': {'False': {}, 'True': {}}}},\n",
       " 'resnet10': {'random': {'False': {'False': {'1': [60.28600311279297,\n",
       "      64.86000061035156,\n",
       "      65.26200103759766]},\n",
       "    'True': {'1': [75.56600189208984, 84.51400756835938, 88.02400207519531]}},\n",
       "   'True': {'False': {'1': [72.58200073242188,\n",
       "      83.39800262451172,\n",
       "      86.22400665283203]},\n",
       "    'True': {}}},\n",
       "  'coreset': {'False': {'False': {}, 'True': {}},\n",
       "   'True': {'False': {}, 'True': {}}},\n",
       "  'margin': {'False': {'False': {}, 'True': {}},\n",
       "   'True': {'False': {}, 'True': {}}},\n",
       "  'badge': {'False': {'False': {}, 'True': {}},\n",
       "   'True': {'False': {}, 'True': {}}},\n",
       "  'typiclust': {'False': {'False': {}, 'True': {}},\n",
       "   'True': {'False': {}, 'True': {}}}},\n",
       " 'resnet18': {'random': {'False': {'False': {'1': [60.28600311279297,\n",
       "      64.86000061035156,\n",
       "      65.26200103759766]},\n",
       "    'True': {'1': [75.56600189208984, 84.51400756835938, 88.02400207519531]}},\n",
       "   'True': {'False': {'1': [72.58200073242188,\n",
       "      83.39800262451172,\n",
       "      86.22400665283203]},\n",
       "    'True': {}}},\n",
       "  'coreset': {'False': {'False': {}, 'True': {}},\n",
       "   'True': {'False': {}, 'True': {}}},\n",
       "  'margin': {'False': {'False': {}, 'True': {}},\n",
       "   'True': {'False': {}, 'True': {}}},\n",
       "  'badge': {'False': {'False': {}, 'True': {}},\n",
       "   'True': {'False': {}, 'True': {}}},\n",
       "  'typiclust': {'False': {'False': {}, 'True': {}},\n",
       "   'True': {'False': {}, 'True': {}}}}}"
      ]
     },
     "execution_count": 5,
     "metadata": {},
     "output_type": "execute_result"
    }
   ],
   "source": [
    "results"
   ]
  },
  {
   "cell_type": "code",
   "execution_count": null,
   "metadata": {},
   "outputs": [],
   "source": []
  }
 ],
 "metadata": {
  "kernelspec": {
   "display_name": "sdal",
   "language": "python",
   "name": "python3"
  },
  "language_info": {
   "codemirror_mode": {
    "name": "ipython",
    "version": 3
   },
   "file_extension": ".py",
   "mimetype": "text/x-python",
   "name": "python",
   "nbconvert_exporter": "python",
   "pygments_lexer": "ipython3",
   "version": "3.9.18"
  }
 },
 "nbformat": 4,
 "nbformat_minor": 2
}
